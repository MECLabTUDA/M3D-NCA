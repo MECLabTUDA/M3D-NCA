{
 "cells": [
  {
   "cell_type": "markdown",
   "metadata": {},
   "source": [
    "# Unsupervised Training of Neural Cellular Automata on Edge Devices\n",
    "### John Kalkhof, Amin Ranem, Anirban Mukhopadhyay\n",
    "__https://arxiv.org/pdf/2407.18114__\n",
    "\n",
    "\n",
    "\n",
    "***"
   ]
  },
  {
   "cell_type": "markdown",
   "metadata": {},
   "source": [
    "## _1. Imports_"
   ]
  },
  {
   "cell_type": "code",
   "execution_count": null,
   "metadata": {},
   "outputs": [],
   "source": [
    "import torch\n",
    "from src.datasets.Nii_Gz_Dataset import Nii_Gz_Dataset\n",
    "from src.models.Model_MedNCA import MedNCA\n",
    "from src.agents.Agent_MedNCA_Simple import MedNCAAgent\n",
    "from src.losses.LossFunctions import DiceFocalLoss, WeightedDiceBCELoss\n",
    "from src.utils.Experiment import Experiment\n",
    "from src.datasets.Nii_Gz_Dataset_customPath import Dataset_NiiGz_customPath\n",
    "from src.models.Model_MedNCA_finetune import MedNCA_finetune\n",
    "from src.agents.Agent_Med_NCA_Simple_finetuning import Agent_Med_NCA_finetuning"
   ]
  },
  {
   "cell_type": "markdown",
   "metadata": {},
   "source": [
    "## _2. Configure experiment_\n",
    "- __AutoReload__\n",
    "    - If an experiment already exists in _model\\_path_ the config will __always__ be overwritten with the existing one\n",
    "    - Additionally if the model has been saved previously, this state will be reloaded"
   ]
  },
  {
   "cell_type": "code",
   "execution_count": null,
   "metadata": {},
   "outputs": [],
   "source": [
    "\n",
    "config = [{\n",
    "    'img_path': r\"image_path\",\n",
    "    'label_path': r\"label_path\",\n",
    "    'name': r'Med_NCA_Run1_pretraining', #12 or 13, 54 opt, \n",
    "    'device':\"cuda:0\",\n",
    "    'unlock_CPU': True,\n",
    "    # Optimizer\n",
    "    'lr': 16e-4,\n",
    "    'lr_gamma': 0.9999,#0.9999,\n",
    "    'betas': (0.9, 0.99),\n",
    "    # Training\n",
    "    'save_interval': 500,\n",
    "    'evaluate_interval': 1501,\n",
    "    'n_epoch': 1500,\n",
    "    'batch_duplication': 1,\n",
    "    # Model\n",
    "    'channel_n': 16,        # Number of CA state channels\n",
    "    'inference_steps': [20, 20],\n",
    "    'cell_fire_rate': 0.5,\n",
    "    'batch_size': 16,\n",
    "    'input_channels': 1,\n",
    "    'output_channels': 1,\n",
    "    'hidden_size': 128,\n",
    "    'train_model':1,\n",
    "    # Data\n",
    "    'input_size': [(64, 64), (256, 256)] ,\n",
    "    'scale_factor': 4,\n",
    "    'data_split': [1.0, 0, 0.0], \n",
    "    'keep_original_scale': False,\n",
    "    'rescale': True,\n",
    "}\n",
    "]\n"
   ]
  },
  {
   "cell_type": "markdown",
   "metadata": {},
   "source": [
    "## _3. Choose architecture, dataset and training agent_\n",
    "\n",
    "- Nii_Gz_Dataset loads 2D files. If you pass store it will be loaded into RAM for faster training."
   ]
  },
  {
   "cell_type": "code",
   "execution_count": null,
   "metadata": {},
   "outputs": [],
   "source": [
    "\n",
    "dataset = Nii_Gz_Dataset()#store=True)\n",
    "device = torch.device(config[0]['device'])\n",
    "ca = MedNCA(channel_n=16, fire_rate=0.5, steps=50, device = \"cuda:0\", hidden_size=128, input_channels=1, output_channels=1, batch_duplication=1).to(\"cuda:0\")\n",
    "agent = MedNCAAgent(ca)\n",
    "exp = Experiment(config, dataset, ca, agent)\n",
    "dataset.set_experiment(exp)\n",
    "exp.set_model_state('train')\n",
    "data_loader = torch.utils.data.DataLoader(dataset, shuffle=True, batch_size=exp.get_from_config('batch_size'))\n",
    "\n",
    "loss_function = DiceFocalLoss() \n",
    "print(sum(p.numel() for p in ca.parameters() if p.requires_grad))\n"
   ]
  },
  {
   "cell_type": "markdown",
   "metadata": {},
   "source": [
    "## _4. Run training_"
   ]
  },
  {
   "cell_type": "code",
   "execution_count": null,
   "metadata": {},
   "outputs": [],
   "source": [
    "agent.train(data_loader, loss_function)\n",
    "\n",
    "# eval after its done\n",
    "#agent.getAverageDiceScore(pseudo_ensemble=False)"
   ]
  },
  {
   "cell_type": "markdown",
   "metadata": {},
   "source": [
    "## _5. Evaluate and generate variance and mean predictions for finetuning_"
   ]
  },
  {
   "cell_type": "code",
   "execution_count": null,
   "metadata": {},
   "outputs": [],
   "source": [
    "\n",
    "# Generate mean and variance maps - will be saved in a new parent folder /variance and /mean\n",
    "dataset_varMean = Dataset_NiiGz_customPath(resize=True, slice=2, size=(256, 256), imagePath=r\"image_path\", labelPath=r\"label_path\")\n",
    "agent.getAverageDiceScore(pseudo_ensemble=True, dataset=dataset_varMean, save_meanVariance=True)   \n"
   ]
  },
  {
   "cell_type": "markdown",
   "metadata": {},
   "source": [
    "## _6. Unsupervised Adaptation_\n",
    "\n",
    "Define config of unsupervised model\n"
   ]
  },
  {
   "cell_type": "code",
   "execution_count": null,
   "metadata": {},
   "outputs": [],
   "source": [
    "config = [{\n",
    "    'img_path': r\"image_path\",\n",
    "    'label_path': r\"label_path\",\n",
    "    'name': r'Med_NCA_Run1_unsupervised', #12 or 13, 54 opt, \n",
    "    'pretrained': r'Med_NCA_Run1_pretraining', #12 or 13, 54 opt, \n",
    "    'device':\"cuda:0\",\n",
    "    'unlock_CPU': True,\n",
    "    # Optimizer\n",
    "    'lr': 3e-6,\n",
    "    'lr_gamma': 0.9999,#0.9999,\n",
    "    'betas': (0.9, 0.99),\n",
    "    # Training\n",
    "    'save_interval': 50,\n",
    "    'evaluate_interval': 501,\n",
    "    'n_epoch': 100,\n",
    "    'batch_duplication': 1,\n",
    "    # Model\n",
    "    'channel_n': 16,        # Number of CA state channels\n",
    "    'inference_steps': [20, 20],\n",
    "    'cell_fire_rate': 0.5,\n",
    "    'batch_size': 8,\n",
    "    'input_channels': 1,\n",
    "    'output_channels': 1,\n",
    "    'hidden_size': 128,\n",
    "    'train_model':1,\n",
    "    # Data\n",
    "    'input_size': [(64, 64), (256, 256)] ,\n",
    "    'scale_factor': 4,\n",
    "    'data_split': [1.0, 0, 0.0], \n",
    "    'keep_original_scale': False,\n",
    "    'rescale': True,\n",
    "}\n",
    "]"
   ]
  },
  {
   "cell_type": "markdown",
   "metadata": {},
   "source": [
    "## _7. Choose architecture, dataset and training agent_"
   ]
  },
  {
   "cell_type": "code",
   "execution_count": null,
   "metadata": {},
   "outputs": [],
   "source": [
    "dataset = Nii_Gz_Dataset()#store=True)\n",
    "device = torch.device(config[0]['device'])\n",
    "ca = MedNCA_finetune(channel_n=16, fire_rate=0.5, steps=50, device = \"cuda:0\", hidden_size=128, input_channels=1, output_channels=1, batch_duplication=1).to(\"cuda:0\")\n",
    "agent = Agent_Med_NCA_finetuning(ca)\n",
    "exp = Experiment(config, dataset, ca, agent)\n",
    "dataset.set_experiment(exp)\n",
    "exp.set_model_state('train')\n",
    "data_loader = torch.utils.data.DataLoader(dataset, shuffle=True, batch_size=exp.get_from_config('batch_size'))\n",
    "\n",
    "loss_function = WeightedDiceBCELoss() "
   ]
  },
  {
   "cell_type": "markdown",
   "metadata": {},
   "source": [
    "## _8. Run unsupervised training_"
   ]
  },
  {
   "cell_type": "code",
   "execution_count": null,
   "metadata": {},
   "outputs": [],
   "source": [
    "agent.train(data_loader, loss_function)"
   ]
  },
  {
   "cell_type": "markdown",
   "metadata": {},
   "source": [
    "## _9. Test_"
   ]
  },
  {
   "cell_type": "code",
   "execution_count": null,
   "metadata": {},
   "outputs": [],
   "source": [
    "dataset = Dataset_NiiGz_customPath(resize=True, slice=2, size=(256, 256), imagePath=r\"image_path\", labelPath=r\"label_path\")\n",
    "dataset.exp = exp\n",
    "agent.getAverageDiceScore(pseudo_ensemble=True, dataset=dataset)"
   ]
  }
 ],
 "metadata": {
  "kernelspec": {
   "display_name": "NCA_310",
   "language": "python",
   "name": "python3"
  },
  "language_info": {
   "codemirror_mode": {
    "name": "ipython",
    "version": 3
   },
   "file_extension": ".py",
   "mimetype": "text/x-python",
   "name": "python",
   "nbconvert_exporter": "python",
   "pygments_lexer": "ipython3",
   "version": "3.10.11"
  }
 },
 "nbformat": 4,
 "nbformat_minor": 2
}
