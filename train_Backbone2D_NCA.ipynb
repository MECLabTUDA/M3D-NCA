{
 "cells": [
  {
   "attachments": {},
   "cell_type": "markdown",
   "metadata": {},
   "source": [
    "# Med-NCA: Robust and Lightweight Segmentation with Neural Cellular Automata \n",
    "### John Kalkhof, Camila González, Anirban Mukhopadhyay\n",
    "__https://arxiv.org/pdf/2302.03473.pdf__\n",
    "\n",
    "\n",
    "\n",
    "***"
   ]
  },
  {
   "attachments": {},
   "cell_type": "markdown",
   "metadata": {},
   "source": [
    "## __The Backbone Model__\n",
    "<div>\n",
    "<img src=\"src/images/backbone_model_MedNCA.png\" width=\"200\"/>\n",
    "</div>"
   ]
  },
  {
   "attachments": {},
   "cell_type": "markdown",
   "metadata": {},
   "source": [
    "## _1. Imports_"
   ]
  },
  {
   "cell_type": "code",
   "execution_count": null,
   "metadata": {},
   "outputs": [],
   "source": [
    "import torch\n",
    "from src.datasets.Nii_Gz_Dataset_3D import Dataset_NiiGz_3D\n",
    "from src.models.Model_BackboneNCA import BackboneNCA\n",
    "from src.losses.LossFunctions import DiceBCELoss\n",
    "from src.utils.Experiment import Experiment\n",
    "from src.agents.Agent_NCA import Agent_NCA"
   ]
  },
  {
   "attachments": {},
   "cell_type": "markdown",
   "metadata": {},
   "source": [
    "## _2. Configure experiment_\n",
    "- __AutoReload__\n",
    "    - If an experiment already exists in _model\\_path_ the config will __always__ be overwritten with the existing one\n",
    "    - Additionally if the model has been saved previously, this state will be reloaded\n",
    "- Download _hippocampus_ data from 'http://medicaldecathlon.com/' and adapt 'img_path' and 'label_path'"
   ]
  },
  {
   "cell_type": "code",
   "execution_count": null,
   "metadata": {},
   "outputs": [],
   "source": [
    "config = [{\n",
    "    # Basic\n",
    "    'img_path': r\"image_path\",\n",
    "    'label_path': r\"label_path\",\n",
    "    'model_path': r'Models/Backbone2D_Run1',\n",
    "    'device':\"cuda:0\",\n",
    "    'unlock_CPU': True,\n",
    "    # Optimizer\n",
    "    'lr': 16e-4,\n",
    "    'lr_gamma': 0.9999,\n",
    "    'betas': (0.5, 0.5),\n",
    "    # Training\n",
    "    'save_interval': 10,\n",
    "    'evaluate_interval': 10,\n",
    "    'n_epoch': 1000,\n",
    "    'batch_size': 48,\n",
    "    # Model\n",
    "    'channel_n': 16,        # Number of CA state channels\n",
    "    'inference_steps': 64,\n",
    "    'cell_fire_rate': 0.5,\n",
    "    'input_channels': 1,\n",
    "    'output_channels': 1,\n",
    "    'hidden_size': 128,\n",
    "    # Data\n",
    "    'input_size': (64, 64),\n",
    "    'data_split': [0.7, 0, 0.3], \n",
    "}\n",
    "]"
   ]
  },
  {
   "attachments": {},
   "cell_type": "markdown",
   "metadata": {},
   "source": [
    "## _3. Choose architecture, dataset and training agent_\n",
    "\n",
    "- _Dataset\\_Nii\\_Gz\\_3D_ loads 3D files. If you pass a _slice_ it will be split along the according axis."
   ]
  },
  {
   "cell_type": "code",
   "execution_count": null,
   "metadata": {},
   "outputs": [],
   "source": [
    "dataset = Dataset_NiiGz_3D(slice=2)\n",
    "device = torch.device(config[0]['device'])\n",
    "ca = BackboneNCA(config[0]['channel_n'], config[0]['cell_fire_rate'], device, hidden_size=config[0]['hidden_size'], input_channels=config[0]['input_channels']).to(device)\n",
    "agent = Agent_NCA(ca)\n",
    "exp = Experiment(config, dataset, ca, agent)\n",
    "dataset.set_experiment(exp)\n",
    "exp.set_model_state('train')\n",
    "data_loader = torch.utils.data.DataLoader(dataset, shuffle=True, batch_size=exp.get_from_config('batch_size'))\n",
    "\n",
    "loss_function = DiceBCELoss() "
   ]
  },
  {
   "attachments": {},
   "cell_type": "markdown",
   "metadata": {},
   "source": [
    "## _4. Run training_"
   ]
  },
  {
   "cell_type": "code",
   "execution_count": null,
   "metadata": {},
   "outputs": [],
   "source": [
    "agent.train(data_loader, loss_function)"
   ]
  },
  {
   "attachments": {},
   "cell_type": "markdown",
   "metadata": {},
   "source": [
    "## _5. Evaluate test data_"
   ]
  },
  {
   "cell_type": "code",
   "execution_count": null,
   "metadata": {},
   "outputs": [],
   "source": [
    "agent.getAverageDiceScore()"
   ]
  }
 ],
 "metadata": {
  "kernelspec": {
   "display_name": "NCA",
   "language": "python",
   "name": "python3"
  },
  "language_info": {
   "codemirror_mode": {
    "name": "ipython",
    "version": 3
   },
   "file_extension": ".py",
   "mimetype": "text/x-python",
   "name": "python",
   "nbconvert_exporter": "python",
   "pygments_lexer": "ipython3",
   "version": "3.8.13"
  },
  "orig_nbformat": 4
 },
 "nbformat": 4,
 "nbformat_minor": 2
}
